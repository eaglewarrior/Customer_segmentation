{
  "cells": [
    {
      "metadata": {
        "trusted": true
      },
      "cell_type": "code",
      "source": "#import modules\nimport pandas as pd # for dataframes\nimport matplotlib.pyplot as plt # for plotting graphs\nimport seaborn as sns # for plotting graphs\nimport datetime as dt",
      "execution_count": 1,
      "outputs": []
    },
    {
      "metadata": {
        "trusted": true
      },
      "cell_type": "code",
      "source": "data = pd.read_excel(\"Online Retail.xlsx\")",
      "execution_count": 2,
      "outputs": []
    },
    {
      "metadata": {
        "trusted": true
      },
      "cell_type": "code",
      "source": "data.head()",
      "execution_count": 3,
      "outputs": [
        {
          "output_type": "execute_result",
          "execution_count": 3,
          "data": {
            "text/html": "<div>\n<style scoped>\n    .dataframe tbody tr th:only-of-type {\n        vertical-align: middle;\n    }\n\n    .dataframe tbody tr th {\n        vertical-align: top;\n    }\n\n    .dataframe thead th {\n        text-align: right;\n    }\n</style>\n<table border=\"1\" class=\"dataframe\">\n  <thead>\n    <tr style=\"text-align: right;\">\n      <th></th>\n      <th>InvoiceNo</th>\n      <th>StockCode</th>\n      <th>Description</th>\n      <th>Quantity</th>\n      <th>InvoiceDate</th>\n      <th>UnitPrice</th>\n      <th>CustomerID</th>\n      <th>Country</th>\n    </tr>\n  </thead>\n  <tbody>\n    <tr>\n      <th>0</th>\n      <td>536365</td>\n      <td>85123A</td>\n      <td>WHITE HANGING HEART T-LIGHT HOLDER</td>\n      <td>6</td>\n      <td>2010-12-01 08:26:00</td>\n      <td>2.55</td>\n      <td>17850.0</td>\n      <td>United Kingdom</td>\n    </tr>\n    <tr>\n      <th>1</th>\n      <td>536365</td>\n      <td>71053</td>\n      <td>WHITE METAL LANTERN</td>\n      <td>6</td>\n      <td>2010-12-01 08:26:00</td>\n      <td>3.39</td>\n      <td>17850.0</td>\n      <td>United Kingdom</td>\n    </tr>\n    <tr>\n      <th>2</th>\n      <td>536365</td>\n      <td>84406B</td>\n      <td>CREAM CUPID HEARTS COAT HANGER</td>\n      <td>8</td>\n      <td>2010-12-01 08:26:00</td>\n      <td>2.75</td>\n      <td>17850.0</td>\n      <td>United Kingdom</td>\n    </tr>\n    <tr>\n      <th>3</th>\n      <td>536365</td>\n      <td>84029G</td>\n      <td>KNITTED UNION FLAG HOT WATER BOTTLE</td>\n      <td>6</td>\n      <td>2010-12-01 08:26:00</td>\n      <td>3.39</td>\n      <td>17850.0</td>\n      <td>United Kingdom</td>\n    </tr>\n    <tr>\n      <th>4</th>\n      <td>536365</td>\n      <td>84029E</td>\n      <td>RED WOOLLY HOTTIE WHITE HEART.</td>\n      <td>6</td>\n      <td>2010-12-01 08:26:00</td>\n      <td>3.39</td>\n      <td>17850.0</td>\n      <td>United Kingdom</td>\n    </tr>\n  </tbody>\n</table>\n</div>",
            "text/plain": "  InvoiceNo StockCode                          Description  Quantity  \\\n0    536365    85123A   WHITE HANGING HEART T-LIGHT HOLDER         6   \n1    536365     71053                  WHITE METAL LANTERN         6   \n2    536365    84406B       CREAM CUPID HEARTS COAT HANGER         8   \n3    536365    84029G  KNITTED UNION FLAG HOT WATER BOTTLE         6   \n4    536365    84029E       RED WOOLLY HOTTIE WHITE HEART.         6   \n\n          InvoiceDate  UnitPrice  CustomerID         Country  \n0 2010-12-01 08:26:00       2.55     17850.0  United Kingdom  \n1 2010-12-01 08:26:00       3.39     17850.0  United Kingdom  \n2 2010-12-01 08:26:00       2.75     17850.0  United Kingdom  \n3 2010-12-01 08:26:00       3.39     17850.0  United Kingdom  \n4 2010-12-01 08:26:00       3.39     17850.0  United Kingdom  "
          },
          "metadata": {}
        }
      ]
    },
    {
      "metadata": {},
      "cell_type": "markdown",
      "source": "Customer Segmentation using RFM analysis\n\nRFM (Recency, Frequency, Monetary) analysis is a behavior-based approach grouping customers into segments. It groups the customers on the basis of their previous purchase transactions. How recently, how often, and how much did a customer buy. RFM filters customers into various groups for the purpose of better service. It helps managers to identify potential customers to do more profitable business. There is a segment of customer who is the big spender but what if they purchased only once or how recently they purchased? Do they often purchase our product? Also, It helps managers to run an effective promotional campaign for personalized service.\n\n    Recency (R): Who have purchased recently? Number of days since last purchase (least recency)\n    Frequency (F): Who has purchased frequently? It means the total number of purchases. ( high frequency)\n    Monetary Value(M): Who have high purchase amount? It means the total money customer spent (high monetary value)\n\nHere, Each of the three variables(Recency, Frequency, and Monetary) consists of four equal groups, which creates 64 (4x4x4) different customer segments.\n\nSteps of RFM(Recency, Frequency, Monetary):\n\n    Calculate the Recency, Frequency, Monetary values for each customer.\n    Add segment bin values to RFM table using quartile.\n    Sort the customer RFM score in ascending order.\n\n"
    },
    {
      "metadata": {
        "trusted": true
      },
      "cell_type": "code",
      "source": "data.info()",
      "execution_count": 4,
      "outputs": [
        {
          "output_type": "stream",
          "text": "<class 'pandas.core.frame.DataFrame'>\nRangeIndex: 541909 entries, 0 to 541908\nData columns (total 8 columns):\nInvoiceNo      541909 non-null object\nStockCode      541909 non-null object\nDescription    540455 non-null object\nQuantity       541909 non-null int64\nInvoiceDate    541909 non-null datetime64[ns]\nUnitPrice      541909 non-null float64\nCustomerID     406829 non-null float64\nCountry        541909 non-null object\ndtypes: datetime64[ns](1), float64(2), int64(1), object(4)\nmemory usage: 33.1+ MB\n",
          "name": "stdout"
        }
      ]
    },
    {
      "metadata": {
        "trusted": true
      },
      "cell_type": "code",
      "source": "data.isnull().sum()",
      "execution_count": 5,
      "outputs": [
        {
          "output_type": "execute_result",
          "execution_count": 5,
          "data": {
            "text/plain": "InvoiceNo           0\nStockCode           0\nDescription      1454\nQuantity            0\nInvoiceDate         0\nUnitPrice           0\nCustomerID     135080\nCountry             0\ndtype: int64"
          },
          "metadata": {}
        }
      ]
    },
    {
      "metadata": {
        "trusted": true
      },
      "cell_type": "code",
      "source": "data.shape",
      "execution_count": 6,
      "outputs": [
        {
          "output_type": "execute_result",
          "execution_count": 6,
          "data": {
            "text/plain": "(541909, 8)"
          },
          "metadata": {}
        }
      ]
    },
    {
      "metadata": {
        "trusted": true
      },
      "cell_type": "code",
      "source": "data= data[pd.notnull(data['CustomerID'])]",
      "execution_count": 7,
      "outputs": []
    },
    {
      "metadata": {
        "trusted": true
      },
      "cell_type": "code",
      "source": "data.shape",
      "execution_count": 8,
      "outputs": [
        {
          "output_type": "execute_result",
          "execution_count": 8,
          "data": {
            "text/plain": "(406829, 8)"
          },
          "metadata": {}
        }
      ]
    },
    {
      "metadata": {
        "trusted": true
      },
      "cell_type": "code",
      "source": "filtered_data=data[['Country','CustomerID']].drop_duplicates()",
      "execution_count": 9,
      "outputs": []
    },
    {
      "metadata": {
        "trusted": true
      },
      "cell_type": "code",
      "source": "filtered_data.shape",
      "execution_count": 10,
      "outputs": [
        {
          "output_type": "execute_result",
          "execution_count": 10,
          "data": {
            "text/plain": "(4380, 2)"
          },
          "metadata": {}
        }
      ]
    },
    {
      "metadata": {
        "trusted": true
      },
      "cell_type": "code",
      "source": "#Top ten country's customer\nfiltered_data.Country.value_counts()[:10].plot(kind='bar')\n",
      "execution_count": 11,
      "outputs": [
        {
          "output_type": "execute_result",
          "execution_count": 11,
          "data": {
            "text/plain": "<matplotlib.axes._subplots.AxesSubplot at 0x7f386fc36128>"
          },
          "metadata": {}
        },
        {
          "output_type": "display_data",
          "data": {
            "image/png": "[encoded data removed]",
            "text/plain": "<Figure size 432x288 with 1 Axes>"
          },
          "metadata": {
            "needs_background": "light"
          }
        }
      ]
    },
    {
      "metadata": {
        "trusted": true
      },
      "cell_type": "code",
      "source": "uk_data=data[data.Country=='United Kingdom']",
      "execution_count": 12,
      "outputs": []
    },
    {
      "metadata": {
        "trusted": true
      },
      "cell_type": "code",
      "source": "uk_data.describe()",
      "execution_count": 13,
      "outputs": [
        {
          "output_type": "execute_result",
          "execution_count": 13,
          "data": {
            "text/html": "<div>\n<style scoped>\n    .dataframe tbody tr th:only-of-type {\n        vertical-align: middle;\n    }\n\n    .dataframe tbody tr th {\n        vertical-align: top;\n    }\n\n    .dataframe thead th {\n        text-align: right;\n    }\n</style>\n<table border=\"1\" class=\"dataframe\">\n  <thead>\n    <tr style=\"text-align: right;\">\n      <th></th>\n      <th>Quantity</th>\n      <th>UnitPrice</th>\n      <th>CustomerID</th>\n    </tr>\n  </thead>\n  <tbody>\n    <tr>\n      <th>count</th>\n      <td>361878.000000</td>\n      <td>361878.000000</td>\n      <td>361878.000000</td>\n    </tr>\n    <tr>\n      <th>mean</th>\n      <td>11.077029</td>\n      <td>3.256007</td>\n      <td>15547.871368</td>\n    </tr>\n    <tr>\n      <th>std</th>\n      <td>263.129266</td>\n      <td>70.654731</td>\n      <td>1594.402590</td>\n    </tr>\n    <tr>\n      <th>min</th>\n      <td>-80995.000000</td>\n      <td>0.000000</td>\n      <td>12346.000000</td>\n    </tr>\n    <tr>\n      <th>25%</th>\n      <td>2.000000</td>\n      <td>1.250000</td>\n      <td>14194.000000</td>\n    </tr>\n    <tr>\n      <th>50%</th>\n      <td>4.000000</td>\n      <td>1.950000</td>\n      <td>15514.000000</td>\n    </tr>\n    <tr>\n      <th>75%</th>\n      <td>12.000000</td>\n      <td>3.750000</td>\n      <td>16931.000000</td>\n    </tr>\n    <tr>\n      <th>max</th>\n      <td>80995.000000</td>\n      <td>38970.000000</td>\n      <td>18287.000000</td>\n    </tr>\n  </tbody>\n</table>\n</div>",
            "text/plain": "            Quantity      UnitPrice     CustomerID\ncount  361878.000000  361878.000000  361878.000000\nmean       11.077029       3.256007   15547.871368\nstd       263.129266      70.654731    1594.402590\nmin    -80995.000000       0.000000   12346.000000\n25%         2.000000       1.250000   14194.000000\n50%         4.000000       1.950000   15514.000000\n75%        12.000000       3.750000   16931.000000\nmax     80995.000000   38970.000000   18287.000000"
          },
          "metadata": {}
        }
      ]
    },
    {
      "metadata": {
        "trusted": true
      },
      "cell_type": "code",
      "source": "uk_data = uk_data[(uk_data['Quantity']>0)]# to filter out negative quantity\nuk_data.describe()",
      "execution_count": 14,
      "outputs": [
        {
          "output_type": "execute_result",
          "execution_count": 14,
          "data": {
            "text/html": "<div>\n<style scoped>\n    .dataframe tbody tr th:only-of-type {\n        vertical-align: middle;\n    }\n\n    .dataframe tbody tr th {\n        vertical-align: top;\n    }\n\n    .dataframe thead th {\n        text-align: right;\n    }\n</style>\n<table border=\"1\" class=\"dataframe\">\n  <thead>\n    <tr style=\"text-align: right;\">\n      <th></th>\n      <th>Quantity</th>\n      <th>UnitPrice</th>\n      <th>CustomerID</th>\n    </tr>\n  </thead>\n  <tbody>\n    <tr>\n      <th>count</th>\n      <td>354345.000000</td>\n      <td>354345.000000</td>\n      <td>354345.000000</td>\n    </tr>\n    <tr>\n      <th>mean</th>\n      <td>12.048913</td>\n      <td>2.963793</td>\n      <td>15552.436219</td>\n    </tr>\n    <tr>\n      <th>std</th>\n      <td>190.428127</td>\n      <td>17.862067</td>\n      <td>1594.546025</td>\n    </tr>\n    <tr>\n      <th>min</th>\n      <td>1.000000</td>\n      <td>0.000000</td>\n      <td>12346.000000</td>\n    </tr>\n    <tr>\n      <th>25%</th>\n      <td>2.000000</td>\n      <td>1.250000</td>\n      <td>14194.000000</td>\n    </tr>\n    <tr>\n      <th>50%</th>\n      <td>4.000000</td>\n      <td>1.950000</td>\n      <td>15522.000000</td>\n    </tr>\n    <tr>\n      <th>75%</th>\n      <td>12.000000</td>\n      <td>3.750000</td>\n      <td>16931.000000</td>\n    </tr>\n    <tr>\n      <th>max</th>\n      <td>80995.000000</td>\n      <td>8142.750000</td>\n      <td>18287.000000</td>\n    </tr>\n  </tbody>\n</table>\n</div>",
            "text/plain": "            Quantity      UnitPrice     CustomerID\ncount  354345.000000  354345.000000  354345.000000\nmean       12.048913       2.963793   15552.436219\nstd       190.428127      17.862067    1594.546025\nmin         1.000000       0.000000   12346.000000\n25%         2.000000       1.250000   14194.000000\n50%         4.000000       1.950000   15522.000000\n75%        12.000000       3.750000   16931.000000\nmax     80995.000000    8142.750000   18287.000000"
          },
          "metadata": {}
        }
      ]
    },
    {
      "metadata": {
        "trusted": true
      },
      "cell_type": "code",
      "source": "data.columns",
      "execution_count": 15,
      "outputs": [
        {
          "output_type": "execute_result",
          "execution_count": 15,
          "data": {
            "text/plain": "Index(['InvoiceNo', 'StockCode', 'Description', 'Quantity', 'InvoiceDate',\n       'UnitPrice', 'CustomerID', 'Country'],\n      dtype='object')"
          },
          "metadata": {}
        }
      ]
    },
    {
      "metadata": {},
      "cell_type": "markdown",
      "source": "Here, you can filter the necessary columns for RFM analysis. You only need her five columns CustomerID, InvoiceDate, InvoiceNo, Quantity, and UnitPrice. \n\nCustomerId will uniquely define your customers, InvoiceDate help you calculate recency of purchase, \n\nInvoiceNo helps you to count the number of time transaction performed(frequency). \n\nQuantity purchased in each transaction and UnitPrice of each unit purchased by the customer will help you to calculate the total purchased amount."
    },
    {
      "metadata": {
        "trusted": true
      },
      "cell_type": "code",
      "source": "uk_data=uk_data[['CustomerID','InvoiceDate','InvoiceNo','Quantity','UnitPrice']]",
      "execution_count": 16,
      "outputs": []
    },
    {
      "metadata": {
        "trusted": true
      },
      "cell_type": "code",
      "source": "uk_data.shape",
      "execution_count": 20,
      "outputs": [
        {
          "output_type": "execute_result",
          "execution_count": 20,
          "data": {
            "text/plain": "(354345, 5)"
          },
          "metadata": {}
        }
      ]
    },
    {
      "metadata": {
        "trusted": true
      },
      "cell_type": "code",
      "source": "len(uk_data.CustomerID.unique())",
      "execution_count": 19,
      "outputs": [
        {
          "output_type": "execute_result",
          "execution_count": 19,
          "data": {
            "text/plain": "3921"
          },
          "metadata": {}
        }
      ]
    },
    {
      "metadata": {
        "trusted": true
      },
      "cell_type": "code",
      "source": "len(uk_data.InvoiceNo.unique())",
      "execution_count": 21,
      "outputs": [
        {
          "output_type": "execute_result",
          "execution_count": 21,
          "data": {
            "text/plain": "16649"
          },
          "metadata": {}
        }
      ]
    },
    {
      "metadata": {
        "trusted": true
      },
      "cell_type": "code",
      "source": "# Monetary\nuk_data['TotalPrice'] = uk_data['Quantity'] * uk_data['UnitPrice']",
      "execution_count": 22,
      "outputs": []
    },
    {
      "metadata": {
        "trusted": true
      },
      "cell_type": "code",
      "source": "uk_data['InvoiceDate'].min(),uk_data['InvoiceDate'].max()",
      "execution_count": 23,
      "outputs": [
        {
          "output_type": "execute_result",
          "execution_count": 23,
          "data": {
            "text/plain": "(Timestamp('2010-12-01 08:26:00'), Timestamp('2011-12-09 12:49:00'))"
          },
          "metadata": {}
        }
      ]
    },
    {
      "metadata": {
        "trusted": true
      },
      "cell_type": "code",
      "source": "PRESENT = dt.datetime(2019,6,23)\nuk_data['InvoiceDate'] = pd.to_datetime(uk_data['InvoiceDate'])",
      "execution_count": 25,
      "outputs": []
    },
    {
      "metadata": {
        "trusted": true
      },
      "cell_type": "code",
      "source": "uk_data.head()",
      "execution_count": 26,
      "outputs": [
        {
          "output_type": "execute_result",
          "execution_count": 26,
          "data": {
            "text/html": "<div>\n<style scoped>\n    .dataframe tbody tr th:only-of-type {\n        vertical-align: middle;\n    }\n\n    .dataframe tbody tr th {\n        vertical-align: top;\n    }\n\n    .dataframe thead th {\n        text-align: right;\n    }\n</style>\n<table border=\"1\" class=\"dataframe\">\n  <thead>\n    <tr style=\"text-align: right;\">\n      <th></th>\n      <th>CustomerID</th>\n      <th>InvoiceDate</th>\n      <th>InvoiceNo</th>\n      <th>Quantity</th>\n      <th>UnitPrice</th>\n      <th>TotalPrice</th>\n    </tr>\n  </thead>\n  <tbody>\n    <tr>\n      <th>0</th>\n      <td>17850.0</td>\n      <td>2010-12-01 08:26:00</td>\n      <td>536365</td>\n      <td>6</td>\n      <td>2.55</td>\n      <td>15.30</td>\n    </tr>\n    <tr>\n      <th>1</th>\n      <td>17850.0</td>\n      <td>2010-12-01 08:26:00</td>\n      <td>536365</td>\n      <td>6</td>\n      <td>3.39</td>\n      <td>20.34</td>\n    </tr>\n    <tr>\n      <th>2</th>\n      <td>17850.0</td>\n      <td>2010-12-01 08:26:00</td>\n      <td>536365</td>\n      <td>8</td>\n      <td>2.75</td>\n      <td>22.00</td>\n    </tr>\n    <tr>\n      <th>3</th>\n      <td>17850.0</td>\n      <td>2010-12-01 08:26:00</td>\n      <td>536365</td>\n      <td>6</td>\n      <td>3.39</td>\n      <td>20.34</td>\n    </tr>\n    <tr>\n      <th>4</th>\n      <td>17850.0</td>\n      <td>2010-12-01 08:26:00</td>\n      <td>536365</td>\n      <td>6</td>\n      <td>3.39</td>\n      <td>20.34</td>\n    </tr>\n  </tbody>\n</table>\n</div>",
            "text/plain": "   CustomerID         InvoiceDate InvoiceNo  Quantity  UnitPrice  TotalPrice\n0     17850.0 2010-12-01 08:26:00    536365         6       2.55       15.30\n1     17850.0 2010-12-01 08:26:00    536365         6       3.39       20.34\n2     17850.0 2010-12-01 08:26:00    536365         8       2.75       22.00\n3     17850.0 2010-12-01 08:26:00    536365         6       3.39       20.34\n4     17850.0 2010-12-01 08:26:00    536365         6       3.39       20.34"
          },
          "metadata": {}
        }
      ]
    },
    {
      "metadata": {},
      "cell_type": "markdown",
      "source": "RFM Analysis\n\nHere, you are going to perform following opertaions:\n\n    For Recency, Calculate the number of days between present date and date of last purchase each customer.\n    For Frequency, Calculate the number of orders for each customer.\n    For Monetary, Calculate sum of purchase price for each customer.\n"
    },
    {
      "metadata": {
        "trusted": true
      },
      "cell_type": "code",
      "source": "rfm= uk_data.groupby('CustomerID').agg({'InvoiceDate': lambda date: (PRESENT - date.max()).days,\n                                        'InvoiceNo': lambda num: len(num),\n                                        'TotalPrice': lambda price: price.sum()})\n",
      "execution_count": 27,
      "outputs": []
    },
    {
      "metadata": {
        "trusted": true
      },
      "cell_type": "code",
      "source": "rfm.columns=['monetary','frequency','recency']",
      "execution_count": 28,
      "outputs": []
    },
    {
      "metadata": {
        "trusted": true
      },
      "cell_type": "code",
      "source": "rfm['recency'] = rfm['recency'].astype(int)\nrfm.head()",
      "execution_count": 29,
      "outputs": [
        {
          "output_type": "execute_result",
          "execution_count": 29,
          "data": {
            "text/html": "<div>\n<style scoped>\n    .dataframe tbody tr th:only-of-type {\n        vertical-align: middle;\n    }\n\n    .dataframe tbody tr th {\n        vertical-align: top;\n    }\n\n    .dataframe thead th {\n        text-align: right;\n    }\n</style>\n<table border=\"1\" class=\"dataframe\">\n  <thead>\n    <tr style=\"text-align: right;\">\n      <th></th>\n      <th>monetary</th>\n      <th>frequency</th>\n      <th>recency</th>\n    </tr>\n    <tr>\n      <th>CustomerID</th>\n      <th></th>\n      <th></th>\n      <th></th>\n    </tr>\n  </thead>\n  <tbody>\n    <tr>\n      <th>12346.0</th>\n      <td>3077</td>\n      <td>1</td>\n      <td>77183</td>\n    </tr>\n    <tr>\n      <th>12747.0</th>\n      <td>2754</td>\n      <td>103</td>\n      <td>4196</td>\n    </tr>\n    <tr>\n      <th>12748.0</th>\n      <td>2752</td>\n      <td>4596</td>\n      <td>33719</td>\n    </tr>\n    <tr>\n      <th>12749.0</th>\n      <td>2755</td>\n      <td>199</td>\n      <td>4090</td>\n    </tr>\n    <tr>\n      <th>12820.0</th>\n      <td>2755</td>\n      <td>59</td>\n      <td>942</td>\n    </tr>\n  </tbody>\n</table>\n</div>",
            "text/plain": "            monetary  frequency  recency\nCustomerID                              \n12346.0         3077          1    77183\n12747.0         2754        103     4196\n12748.0         2752       4596    33719\n12749.0         2755        199     4090\n12820.0         2755         59      942"
          },
          "metadata": {}
        }
      ]
    },
    {
      "metadata": {
        "trusted": true
      },
      "cell_type": "code",
      "source": "rfm['r_quartile'] = pd.qcut(rfm['recency'], 4, ['1','2','3','4'])\nrfm['f_quartile'] = pd.qcut(rfm['frequency'], 4, ['4','3','2','1'])\nrfm['m_quartile'] = pd.qcut(rfm['monetary'], 4, ['4','3','2','1'])",
      "execution_count": 30,
      "outputs": []
    },
    {
      "metadata": {
        "trusted": true
      },
      "cell_type": "code",
      "source": "rfm.head()",
      "execution_count": 31,
      "outputs": [
        {
          "output_type": "execute_result",
          "execution_count": 31,
          "data": {
            "text/html": "<div>\n<style scoped>\n    .dataframe tbody tr th:only-of-type {\n        vertical-align: middle;\n    }\n\n    .dataframe tbody tr th {\n        vertical-align: top;\n    }\n\n    .dataframe thead th {\n        text-align: right;\n    }\n</style>\n<table border=\"1\" class=\"dataframe\">\n  <thead>\n    <tr style=\"text-align: right;\">\n      <th></th>\n      <th>monetary</th>\n      <th>frequency</th>\n      <th>recency</th>\n      <th>r_quartile</th>\n      <th>f_quartile</th>\n      <th>m_quartile</th>\n    </tr>\n    <tr>\n      <th>CustomerID</th>\n      <th></th>\n      <th></th>\n      <th></th>\n      <th></th>\n      <th></th>\n      <th></th>\n    </tr>\n  </thead>\n  <tbody>\n    <tr>\n      <th>12346.0</th>\n      <td>3077</td>\n      <td>1</td>\n      <td>77183</td>\n      <td>4</td>\n      <td>4</td>\n      <td>1</td>\n    </tr>\n    <tr>\n      <th>12747.0</th>\n      <td>2754</td>\n      <td>103</td>\n      <td>4196</td>\n      <td>4</td>\n      <td>1</td>\n      <td>4</td>\n    </tr>\n    <tr>\n      <th>12748.0</th>\n      <td>2752</td>\n      <td>4596</td>\n      <td>33719</td>\n      <td>4</td>\n      <td>1</td>\n      <td>4</td>\n    </tr>\n    <tr>\n      <th>12749.0</th>\n      <td>2755</td>\n      <td>199</td>\n      <td>4090</td>\n      <td>4</td>\n      <td>1</td>\n      <td>4</td>\n    </tr>\n    <tr>\n      <th>12820.0</th>\n      <td>2755</td>\n      <td>59</td>\n      <td>942</td>\n      <td>3</td>\n      <td>2</td>\n      <td>4</td>\n    </tr>\n  </tbody>\n</table>\n</div>",
            "text/plain": "            monetary  frequency  recency r_quartile f_quartile m_quartile\nCustomerID                                                               \n12346.0         3077          1    77183          4          4          1\n12747.0         2754        103     4196          4          1          4\n12748.0         2752       4596    33719          4          1          4\n12749.0         2755        199     4090          4          1          4\n12820.0         2755         59      942          3          2          4"
          },
          "metadata": {}
        }
      ]
    },
    {
      "metadata": {
        "trusted": true
      },
      "cell_type": "code",
      "source": "rfm['RFM_Score'] = rfm.r_quartile.astype(str)+ rfm.f_quartile.astype(str) + rfm.m_quartile.astype(str)\nrfm.head()",
      "execution_count": 32,
      "outputs": [
        {
          "output_type": "execute_result",
          "execution_count": 32,
          "data": {
            "text/html": "<div>\n<style scoped>\n    .dataframe tbody tr th:only-of-type {\n        vertical-align: middle;\n    }\n\n    .dataframe tbody tr th {\n        vertical-align: top;\n    }\n\n    .dataframe thead th {\n        text-align: right;\n    }\n</style>\n<table border=\"1\" class=\"dataframe\">\n  <thead>\n    <tr style=\"text-align: right;\">\n      <th></th>\n      <th>monetary</th>\n      <th>frequency</th>\n      <th>recency</th>\n      <th>r_quartile</th>\n      <th>f_quartile</th>\n      <th>m_quartile</th>\n      <th>RFM_Score</th>\n    </tr>\n    <tr>\n      <th>CustomerID</th>\n      <th></th>\n      <th></th>\n      <th></th>\n      <th></th>\n      <th></th>\n      <th></th>\n      <th></th>\n    </tr>\n  </thead>\n  <tbody>\n    <tr>\n      <th>12346.0</th>\n      <td>3077</td>\n      <td>1</td>\n      <td>77183</td>\n      <td>4</td>\n      <td>4</td>\n      <td>1</td>\n      <td>441</td>\n    </tr>\n    <tr>\n      <th>12747.0</th>\n      <td>2754</td>\n      <td>103</td>\n      <td>4196</td>\n      <td>4</td>\n      <td>1</td>\n      <td>4</td>\n      <td>414</td>\n    </tr>\n    <tr>\n      <th>12748.0</th>\n      <td>2752</td>\n      <td>4596</td>\n      <td>33719</td>\n      <td>4</td>\n      <td>1</td>\n      <td>4</td>\n      <td>414</td>\n    </tr>\n    <tr>\n      <th>12749.0</th>\n      <td>2755</td>\n      <td>199</td>\n      <td>4090</td>\n      <td>4</td>\n      <td>1</td>\n      <td>4</td>\n      <td>414</td>\n    </tr>\n    <tr>\n      <th>12820.0</th>\n      <td>2755</td>\n      <td>59</td>\n      <td>942</td>\n      <td>3</td>\n      <td>2</td>\n      <td>4</td>\n      <td>324</td>\n    </tr>\n  </tbody>\n</table>\n</div>",
            "text/plain": "            monetary  frequency  recency r_quartile f_quartile m_quartile  \\\nCustomerID                                                                  \n12346.0         3077          1    77183          4          4          1   \n12747.0         2754        103     4196          4          1          4   \n12748.0         2752       4596    33719          4          1          4   \n12749.0         2755        199     4090          4          1          4   \n12820.0         2755         59      942          3          2          4   \n\n           RFM_Score  \nCustomerID            \n12346.0          441  \n12747.0          414  \n12748.0          414  \n12749.0          414  \n12820.0          324  "
          },
          "metadata": {}
        }
      ]
    },
    {
      "metadata": {
        "trusted": true
      },
      "cell_type": "code",
      "source": "rfm['RFM_Score'].value_counts()",
      "execution_count": 37,
      "outputs": [
        {
          "output_type": "execute_result",
          "execution_count": 37,
          "data": {
            "text/plain": "414    409\n141    345\n413    186\n231    178\n142    169\n323    156\n322    142\n232    140\n324    124\n143    112\n233    107\n241    102\n131     92\n412     92\n313     83\n314     81\n242     78\n424     78\n332     77\n234     65\n223     63\n144     59\n321     58\n423     53\n133     52\n422     51\n333     49\n221     49\n222     48\n132     43\n      ... \n312     39\n224     39\n331     35\n121     34\n243     33\n342     27\n123     25\n341     23\n134     22\n244     21\n122     21\n411     20\n311     19\n434     18\n213     18\n214     16\n432     16\n343     14\n442     14\n124     13\n344     13\n212     12\n433     11\n421      8\n441      8\n443      7\n444      5\n431      4\n211      4\n114      1\nName: RFM_Score, Length: 61, dtype: int64"
          },
          "metadata": {}
        }
      ]
    },
    {
      "metadata": {
        "trusted": true
      },
      "cell_type": "code",
      "source": "# Filter out Top/Best cusotmers\nrfm[rfm['RFM_Score']=='114'].sort_values('monetary', ascending=False).head()\n",
      "execution_count": 36,
      "outputs": [
        {
          "output_type": "execute_result",
          "execution_count": 36,
          "data": {
            "text/html": "<div>\n<style scoped>\n    .dataframe tbody tr th:only-of-type {\n        vertical-align: middle;\n    }\n\n    .dataframe tbody tr th {\n        vertical-align: top;\n    }\n\n    .dataframe thead th {\n        text-align: right;\n    }\n</style>\n<table border=\"1\" class=\"dataframe\">\n  <thead>\n    <tr style=\"text-align: right;\">\n      <th></th>\n      <th>monetary</th>\n      <th>frequency</th>\n      <th>recency</th>\n      <th>r_quartile</th>\n      <th>f_quartile</th>\n      <th>m_quartile</th>\n      <th>RFM_Score</th>\n    </tr>\n    <tr>\n      <th>CustomerID</th>\n      <th></th>\n      <th></th>\n      <th></th>\n      <th></th>\n      <th></th>\n      <th></th>\n      <th></th>\n    </tr>\n  </thead>\n  <tbody>\n    <tr>\n      <th>17254.0</th>\n      <td>2756</td>\n      <td>112</td>\n      <td>272</td>\n      <td>1</td>\n      <td>1</td>\n      <td>4</td>\n      <td>114</td>\n    </tr>\n  </tbody>\n</table>\n</div>",
            "text/plain": "            monetary  frequency  recency r_quartile f_quartile m_quartile  \\\nCustomerID                                                                  \n17254.0         2756        112      272          1          1          4   \n\n           RFM_Score  \nCustomerID            \n17254.0          114  "
          },
          "metadata": {}
        }
      ]
    }
  ],
  "metadata": {
    "kernelspec": {
      "name": "python36",
      "display_name": "Python 3.6",
      "language": "python"
    },
    "language_info": {
      "mimetype": "text/x-python",
      "nbconvert_exporter": "python",
      "name": "python",
      "pygments_lexer": "ipython3",
      "version": "3.6.6",
      "file_extension": ".py",
      "codemirror_mode": {
        "version": 3,
        "name": "ipython"
      }
    }
  },
  "nbformat": 4,
  "nbformat_minor": 2
}